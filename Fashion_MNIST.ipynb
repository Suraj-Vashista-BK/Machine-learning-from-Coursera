{
  "nbformat": 4,
  "nbformat_minor": 0,
  "metadata": {
    "colab": {
      "name": "Fashion_MNIST.ipynb",
      "version": "0.3.2",
      "provenance": [],
      "collapsed_sections": []
    },
    "kernelspec": {
      "name": "python3",
      "display_name": "Python 3"
    }
  },
  "cells": [
    {
      "cell_type": "markdown",
      "metadata": {
        "id": "T72fXeCYe2gj",
        "colab_type": "text"
      },
      "source": [
        "Importing tensorflow and loading the dataset"
      ]
    },
    {
      "cell_type": "code",
      "metadata": {
        "id": "-D7BXwDdJa-m",
        "colab_type": "code",
        "colab": {}
      },
      "source": [
        "import tensorflow as tf\n",
        "\n",
        "mnist=tf.keras.datasets.fashion_mnist\n",
        "\n",
        "(training_images,training_labels),(test_images,test_labels)=mnist.load_data()"
      ],
      "execution_count": 0,
      "outputs": []
    },
    {
      "cell_type": "markdown",
      "metadata": {
        "id": "KCywMa1Be_6d",
        "colab_type": "text"
      },
      "source": [
        "Looking at an example data"
      ]
    },
    {
      "cell_type": "code",
      "metadata": {
        "id": "WFV2AVFmMq3q",
        "colab_type": "code",
        "colab": {
          "base_uri": "https://localhost:8080/",
          "height": 286
        },
        "outputId": "679ceaff-b733-47a5-a897-c533b81bb076"
      },
      "source": [
        "import matplotlib.pyplot as plt\n",
        "plt.imshow(training_images[0])\n",
        "print(training_labels[0])"
      ],
      "execution_count": 2,
      "outputs": [
        {
          "output_type": "stream",
          "text": [
            "9\n"
          ],
          "name": "stdout"
        },
        {
          "output_type": "display_data",
          "data": {
            "image/png": "[encoded data removed]",
            "text/plain": [
              "<Figure size 432x288 with 1 Axes>"
            ]
          },
          "metadata": {
            "tags": []
          }
        }
      ]
    },
    {
      "cell_type": "code",
      "metadata": {
        "id": "arHBqLGaNok4",
        "colab_type": "code",
        "colab": {}
      },
      "source": [
        "training_images=training_images/255.0\n",
        "test_images=test_images/255.0"
      ],
      "execution_count": 0,
      "outputs": []
    },
    {
      "cell_type": "markdown",
      "metadata": {
        "id": "8rGWvrKQfL0p",
        "colab_type": "text"
      },
      "source": [
        "Building and training the model for 10 epochs"
      ]
    },
    {
      "cell_type": "code",
      "metadata": {
        "id": "EdWlmsSfNzII",
        "colab_type": "code",
        "colab": {
          "base_uri": "https://localhost:8080/",
          "height": 370
        },
        "outputId": "45088fc6-b31c-4bcf-e8fa-3510423a157d"
      },
      "source": [
        "model=tf.keras.models.Sequential([tf.keras.layers.Flatten(),\n",
        "                                 tf.keras.layers.Dense(512,activation=tf.nn.relu),\n",
        "                                 tf.keras.layers.Dense(10,activation=tf.nn.softmax)])\n",
        "\n",
        "model.compile(optimizer='adam',loss='sparse_categorical_crossentropy',metrics=['accuracy'])\n",
        "\n",
        "model.fit(training_images,training_labels,epochs=10)\n"
      ],
      "execution_count": 7,
      "outputs": [
        {
          "output_type": "stream",
          "text": [
            "Epoch 1/10\n",
            "60000/60000 [==============================] - 7s 115us/sample - loss: 0.4748 - acc: 0.8304\n",
            "Epoch 2/10\n",
            "60000/60000 [==============================] - 7s 117us/sample - loss: 0.3593 - acc: 0.8684\n",
            "Epoch 3/10\n",
            "60000/60000 [==============================] - 7s 116us/sample - loss: 0.3235 - acc: 0.8794\n",
            "Epoch 4/10\n",
            "60000/60000 [==============================] - 7s 118us/sample - loss: 0.2988 - acc: 0.8900\n",
            "Epoch 5/10\n",
            "60000/60000 [==============================] - 7s 119us/sample - loss: 0.2819 - acc: 0.8951\n",
            "Epoch 6/10\n",
            "60000/60000 [==============================] - 7s 117us/sample - loss: 0.2674 - acc: 0.9003\n",
            "Epoch 7/10\n",
            "60000/60000 [==============================] - 7s 116us/sample - loss: 0.2528 - acc: 0.9056\n",
            "Epoch 8/10\n",
            "60000/60000 [==============================] - 7s 116us/sample - loss: 0.2406 - acc: 0.9104\n",
            "Epoch 9/10\n",
            "60000/60000 [==============================] - 7s 115us/sample - loss: 0.2310 - acc: 0.9138\n",
            "Epoch 10/10\n",
            "60000/60000 [==============================] - 7s 114us/sample - loss: 0.2213 - acc: 0.9161\n"
          ],
          "name": "stdout"
        },
        {
          "output_type": "execute_result",
          "data": {
            "text/plain": [
              "<tensorflow.python.keras.callbacks.History at 0x7f1dd3c532b0>"
            ]
          },
          "metadata": {
            "tags": []
          },
          "execution_count": 7
        }
      ]
    },
    {
      "cell_type": "markdown",
      "metadata": {
        "id": "aukbp3NTfVUN",
        "colab_type": "text"
      },
      "source": [
        "Evaluating models accuracy on test data"
      ]
    },
    {
      "cell_type": "code",
      "metadata": {
        "id": "JqxSIpt5O_5g",
        "colab_type": "code",
        "colab": {
          "base_uri": "https://localhost:8080/",
          "height": 50
        },
        "outputId": "34a6cfb3-161d-4b5b-930e-f083e9dee299"
      },
      "source": [
        "model.evaluate(test_images,test_labels)"
      ],
      "execution_count": 8,
      "outputs": [
        {
          "output_type": "stream",
          "text": [
            "10000/10000 [==============================] - 1s 55us/sample - loss: 0.3231 - acc: 0.8862\n"
          ],
          "name": "stdout"
        },
        {
          "output_type": "execute_result",
          "data": {
            "text/plain": [
              "[0.3230553948938847, 0.8862]"
            ]
          },
          "metadata": {
            "tags": []
          },
          "execution_count": 8
        }
      ]
    },
    {
      "cell_type": "code",
      "metadata": {
        "id": "Gp_GcgrmPJ84",
        "colab_type": "code",
        "colab": {
          "base_uri": "https://localhost:8080/",
          "height": 67
        },
        "outputId": "14980491-fc64-48df-c53d-e1b8f2849763"
      },
      "source": [
        "classification=model.predict(test_images)\n",
        "print(classification[0])\n",
        "print(test_labels[0])"
      ],
      "execution_count": 9,
      "outputs": [
        {
          "output_type": "stream",
          "text": [
            "[2.5778819e-08 2.5467758e-11 3.4444014e-11 1.6591715e-13 5.3530433e-09\n",
            " 7.5649070e-05 3.3225251e-09 1.1021927e-03 1.7051022e-11 9.9882215e-01]\n",
            "9\n"
          ],
          "name": "stdout"
        }
      ]
    }
  ]
}
